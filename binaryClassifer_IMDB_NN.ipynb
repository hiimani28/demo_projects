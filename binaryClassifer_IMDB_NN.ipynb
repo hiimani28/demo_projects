{
  "nbformat": 4,
  "nbformat_minor": 0,
  "metadata": {
    "colab": {
      "provenance": [],
      "collapsed_sections": []
    },
    "kernelspec": {
      "name": "python3",
      "display_name": "Python 3"
    },
    "language_info": {
      "name": "python"
    }
  },
  "cells": [
    {
      "cell_type": "markdown",
      "source": [
        "# **Training a binary classifier using imdb dataset** \n",
        "###The data used is from  tensorflow data services\n",
        "### ***Description*** - A binary classifer using Neural Networks that will help classify the positive and negative reviews\n",
        "### [Tensorflow datasets](https://www.tensorflow.org/datasets)"
      ],
      "metadata": {
        "id": "9O5GxuQOKQuB"
      }
    },
    {
      "cell_type": "code",
      "source": [
        "#!pip install -q tensorflow-datasets\n",
        "import tensorflow_datasets as tfds \n",
        "\n",
        "#loading the dataset\n",
        "imdb, info = tfds.load(\"imdb_reviews\", with_info = True, as_supervised = True)"
      ],
      "metadata": {
        "id": "MrW-X0hlKooY"
      },
      "execution_count": 38,
      "outputs": []
    },
    {
      "cell_type": "code",
      "source": [
        "print(info)\n",
        "# The data set contains 25,000 training and testing each as well as unlabeled data (not used in this)\n"
      ],
      "metadata": {
        "colab": {
          "base_uri": "https://localhost:8080/"
        },
        "id": "ZhEHdR1QMCCv",
        "outputId": "faaa8ce3-c262-482e-f882-8e0d359295b1"
      },
      "execution_count": 39,
      "outputs": [
        {
          "output_type": "stream",
          "name": "stdout",
          "text": [
            "tfds.core.DatasetInfo(\n",
            "    name='imdb_reviews',\n",
            "    full_name='imdb_reviews/plain_text/1.0.0',\n",
            "    description=\"\"\"\n",
            "    Large Movie Review Dataset.\n",
            "    This is a dataset for binary sentiment classification containing substantially more data than previous benchmark datasets. We provide a set of 25,000 highly polar movie reviews for training, and 25,000 for testing. There is additional unlabeled data for use as well.\n",
            "    \"\"\",\n",
            "    config_description=\"\"\"\n",
            "    Plain text\n",
            "    \"\"\",\n",
            "    homepage='http://ai.stanford.edu/~amaas/data/sentiment/',\n",
            "    data_path='~/tensorflow_datasets/imdb_reviews/plain_text/1.0.0',\n",
            "    file_format=tfrecord,\n",
            "    download_size=80.23 MiB,\n",
            "    dataset_size=129.83 MiB,\n",
            "    features=FeaturesDict({\n",
            "        'label': ClassLabel(shape=(), dtype=tf.int64, num_classes=2),\n",
            "        'text': Text(shape=(), dtype=tf.string),\n",
            "    }),\n",
            "    supervised_keys=('text', 'label'),\n",
            "    disable_shuffling=False,\n",
            "    splits={\n",
            "        'test': <SplitInfo num_examples=25000, num_shards=1>,\n",
            "        'train': <SplitInfo num_examples=25000, num_shards=1>,\n",
            "        'unsupervised': <SplitInfo num_examples=50000, num_shards=1>,\n",
            "    },\n",
            "    citation=\"\"\"@InProceedings{maas-EtAl:2011:ACL-HLT2011,\n",
            "      author    = {Maas, Andrew L.  and  Daly, Raymond E.  and  Pham, Peter T.  and  Huang, Dan  and  Ng, Andrew Y.  and  Potts, Christopher},\n",
            "      title     = {Learning Word Vectors for Sentiment Analysis},\n",
            "      booktitle = {Proceedings of the 49th Annual Meeting of the Association for Computational Linguistics: Human Language Technologies},\n",
            "      month     = {June},\n",
            "      year      = {2011},\n",
            "      address   = {Portland, Oregon, USA},\n",
            "      publisher = {Association for Computational Linguistics},\n",
            "      pages     = {142--150},\n",
            "      url       = {http://www.aclweb.org/anthology/P11-1015}\n",
            "    }\"\"\",\n",
            ")\n"
          ]
        }
      ]
    },
    {
      "cell_type": "code",
      "source": [
        "#print(imdb) -> not in raw form \n",
        "for i in imdb['train'].take(5):\n",
        "  print(i)\n",
        "\n",
        "  # output contains a two value tuple, containing 1. review 2. label in the numpy property at the end (0 -> negative, 1 -> positive)"
      ],
      "metadata": {
        "colab": {
          "base_uri": "https://localhost:8080/"
        },
        "id": "QKdPrD4LMCGC",
        "outputId": "c75434f8-9c0d-4dec-ab3f-78b22c45c703"
      },
      "execution_count": 40,
      "outputs": [
        {
          "output_type": "stream",
          "name": "stdout",
          "text": [
            "(<tf.Tensor: shape=(), dtype=string, numpy=b\"This was an absolutely terrible movie. Don't be lured in by Christopher Walken or Michael Ironside. Both are great actors, but this must simply be their worst role in history. Even their great acting could not redeem this movie's ridiculous storyline. This movie is an early nineties US propaganda piece. The most pathetic scenes were those when the Columbian rebels were making their cases for revolutions. Maria Conchita Alonso appeared phony, and her pseudo-love affair with Walken was nothing but a pathetic emotional plug in a movie that was devoid of any real meaning. I am disappointed that there are movies like this, ruining actor's like Christopher Walken's good name. I could barely sit through it.\">, <tf.Tensor: shape=(), dtype=int64, numpy=0>)\n",
            "(<tf.Tensor: shape=(), dtype=string, numpy=b'I have been known to fall asleep during films, but this is usually due to a combination of things including, really tired, being warm and comfortable on the sette and having just eaten a lot. However on this occasion I fell asleep because the film was rubbish. The plot development was constant. Constantly slow and boring. Things seemed to happen, but with no explanation of what was causing them or why. I admit, I may have missed part of the film, but i watched the majority of it and everything just seemed to happen of its own accord without any real concern for anything else. I cant recommend this film at all.'>, <tf.Tensor: shape=(), dtype=int64, numpy=0>)\n",
            "(<tf.Tensor: shape=(), dtype=string, numpy=b'Mann photographs the Alberta Rocky Mountains in a superb fashion, and Jimmy Stewart and Walter Brennan give enjoyable performances as they always seem to do. <br /><br />But come on Hollywood - a Mountie telling the people of Dawson City, Yukon to elect themselves a marshal (yes a marshal!) and to enforce the law themselves, then gunfighters battling it out on the streets for control of the town? <br /><br />Nothing even remotely resembling that happened on the Canadian side of the border during the Klondike gold rush. Mr. Mann and company appear to have mistaken Dawson City for Deadwood, the Canadian North for the American Wild West.<br /><br />Canadian viewers be prepared for a Reefer Madness type of enjoyable howl with this ludicrous plot, or, to shake your head in disgust.'>, <tf.Tensor: shape=(), dtype=int64, numpy=0>)\n",
            "(<tf.Tensor: shape=(), dtype=string, numpy=b'This is the kind of film for a snowy Sunday afternoon when the rest of the world can go ahead with its own business as you descend into a big arm-chair and mellow for a couple of hours. Wonderful performances from Cher and Nicolas Cage (as always) gently row the plot along. There are no rapids to cross, no dangerous waters, just a warm and witty paddle through New York life at its best. A family film in every sense and one that deserves the praise it received.'>, <tf.Tensor: shape=(), dtype=int64, numpy=1>)\n",
            "(<tf.Tensor: shape=(), dtype=string, numpy=b'As others have mentioned, all the women that go nude in this film are mostly absolutely gorgeous. The plot very ably shows the hypocrisy of the female libido. When men are around they want to be pursued, but when no \"men\" are around, they become the pursuers of a 14 year old boy. And the boy becomes a man really fast (we should all be so lucky at this age!). He then gets up the courage to pursue his true love.'>, <tf.Tensor: shape=(), dtype=int64, numpy=1>)\n"
          ]
        }
      ]
    },
    {
      "cell_type": "code",
      "source": [
        "import numpy as np\n",
        "\n",
        "train_data, test_data = imdb['train'], imdb['test']\n",
        "\n",
        "#initialize sentences and label lists\n",
        "train_sentences = []\n",
        "train_labels = []\n",
        "\n",
        "test_sentences = []\n",
        "test_labels = []\n",
        "#calling numpy method to convert the tensors since each of the iterables contain sentences and labels as TENSO\n",
        "for s, l in train_data:\n",
        "  train_sentences.append(s.numpy().decode('utf-8'))\n",
        "  train_labels.append(l.numpy())\n",
        "\n",
        "for s,l in test_data:\n",
        "  test_sentences.append(s.numpy().decode('utf-8'))\n",
        "  test_labels.append(l.numpy())\n",
        "\n",
        "#During training, the balues are expected to be numpy arrays, so need to convert it \n",
        "train_labels_final = np.array(train_labels)\n",
        "test_labels_final = np.array(test_labels)"
      ],
      "metadata": {
        "id": "FORrZ-1MMCJu"
      },
      "execution_count": 49,
      "outputs": []
    },
    {
      "cell_type": "markdown",
      "source": [
        "# **Preprocessing Steps**\n",
        "Generating padding sequences, tokenizing and padding them since all the sentences have varied length\n"
      ],
      "metadata": {
        "id": "R44rDVBcO8a6"
      }
    },
    {
      "cell_type": "code",
      "source": [
        "# parameters for preprocessing\n",
        "\n",
        "vocab_len = 10000\n",
        "max_len= 120\n",
        "embedding_dim = 16\n",
        "trunc_type = 'post'\n",
        "oov_token = \"<OOV>\" # out of vocab token"
      ],
      "metadata": {
        "id": "qfOQwJYHOqhh"
      },
      "execution_count": 111,
      "outputs": []
    },
    {
      "cell_type": "code",
      "source": [
        "from tensorflow.keras.preprocessing.text import Tokenizer\n",
        "from tensorflow.keras.preprocessing.sequence import pad_sequences"
      ],
      "metadata": {
        "id": "ql-HHW0cOqkx"
      },
      "execution_count": 51,
      "outputs": []
    },
    {
      "cell_type": "markdown",
      "source": [
        "Steps : \n",
        "\n",
        "1. Initialise tokenizer\n",
        "2. Create a word_index dict using training data\n",
        "3. Generate and padding the sentences (train and test)"
      ],
      "metadata": {
        "id": "IbpQh_txP0uV"
      }
    },
    {
      "cell_type": "code",
      "source": [
        "tokenizer = Tokenizer(num_words= vocab_len, oov_token=oov_token)\n",
        "\n",
        "tokenizer.fit_on_texts(train_sentences)\n",
        "word_index = tokenizer.word_index\n",
        "\n",
        "sequences = tokenizer.texts_to_sequences(train_sentences)\n",
        "padded = pad_sequences(sequences= sequences, maxlen= max_len, truncating=trunc_type)\n",
        "\n",
        "testing_sequences = tokenizer.texts_to_sequences(test_sentences)\n",
        "testing_padded = pad_sequences(testing_sequences,maxlen=max_len, truncating=trunc_type)"
      ],
      "metadata": {
        "id": "QKz5_r20Oqnt"
      },
      "execution_count": 52,
      "outputs": []
    },
    {
      "cell_type": "markdown",
      "source": [
        "# **Building and compiling the model**\n",
        "The first layer will be ***Embedding Layer***, each word in the vocab wil be "
      ],
      "metadata": {
        "id": "082aqRLARH-W"
      }
    },
    {
      "cell_type": "code",
      "source": [
        "import tensorflow as tf"
      ],
      "metadata": {
        "id": "YymypsIOmMMq"
      },
      "execution_count": 53,
      "outputs": []
    },
    {
      "cell_type": "code",
      "source": [
        "model = tf.keras.Sequential([\n",
        "    tf.keras.layers.Embedding(vocab_len, embedding_dim, input_length = max_len),\n",
        "    tf.keras.layers.Flatten(),\n",
        "    tf.keras.layers.Dense(6, activation = 'relu'),\n",
        "    tf.keras.layers.Dense(1, activation = 'sigmoid')\n",
        "])\n",
        "\n",
        "\n",
        "model.compile(loss= 'binary_crossentropy', optimizer = 'adam', metrics = ['accuracy'])\n",
        "\n",
        "model.summary()"
      ],
      "metadata": {
        "colab": {
          "base_uri": "https://localhost:8080/"
        },
        "id": "_yjx1gkYmMXb",
        "outputId": "4eed23bc-45ae-4226-ec2f-317f1388a8f5"
      },
      "execution_count": 54,
      "outputs": [
        {
          "output_type": "stream",
          "name": "stdout",
          "text": [
            "Model: \"sequential_5\"\n",
            "_________________________________________________________________\n",
            " Layer (type)                Output Shape              Param #   \n",
            "=================================================================\n",
            " embedding_5 (Embedding)     (None, 120, 16)           160000    \n",
            "                                                                 \n",
            " flatten_3 (Flatten)         (None, 1920)              0         \n",
            "                                                                 \n",
            " dense_10 (Dense)            (None, 6)                 11526     \n",
            "                                                                 \n",
            " dense_11 (Dense)            (None, 1)                 7         \n",
            "                                                                 \n",
            "=================================================================\n",
            "Total params: 171,533\n",
            "Trainable params: 171,533\n",
            "Non-trainable params: 0\n",
            "_________________________________________________________________\n"
          ]
        }
      ]
    },
    {
      "cell_type": "code",
      "source": [
        "#alternatively GlobalAveragePooling1D is also used instead flatten due to the size of output vector - The output shape is reduced to 16 in this. \n",
        "# In this situation, this will be faster (per epoch and simpler) but the accuracy will be less than the above model\n",
        "\n",
        "model2 = tf.keras.Sequential([\n",
        "    tf.keras.layers.Embedding(vocab_len, embedding_dim, input_length = max_len),\n",
        "    tf.keras.layers.GlobalAveragePooling1D(),\n",
        "    tf.keras.layers.Dense(6, activation = 'relu'),\n",
        "    tf.keras.layers.Dense(6, activation = 'relu'),\n",
        "    tf.keras.layers.Dense(1, activation = 'sigmoid')\n",
        "])\n",
        "\n",
        "\n",
        "model2.compile(loss= 'binary_crossentropy', optimizer = 'adam', metrics = ['accuracy'])\n",
        "\n",
        "model2.summary()"
      ],
      "metadata": {
        "colab": {
          "base_uri": "https://localhost:8080/"
        },
        "id": "QV26JWY5mMaE",
        "outputId": "b401732b-d16a-488c-b2be-274591df5448"
      },
      "execution_count": 57,
      "outputs": [
        {
          "output_type": "stream",
          "name": "stdout",
          "text": [
            "Model: \"sequential_7\"\n",
            "_________________________________________________________________\n",
            " Layer (type)                Output Shape              Param #   \n",
            "=================================================================\n",
            " embedding_7 (Embedding)     (None, 120, 16)           160000    \n",
            "                                                                 \n",
            " global_average_pooling1d_3   (None, 16)               0         \n",
            " (GlobalAveragePooling1D)                                        \n",
            "                                                                 \n",
            " dense_14 (Dense)            (None, 6)                 102       \n",
            "                                                                 \n",
            " dense_15 (Dense)            (None, 6)                 42        \n",
            "                                                                 \n",
            " dense_16 (Dense)            (None, 1)                 7         \n",
            "                                                                 \n",
            "=================================================================\n",
            "Total params: 160,151\n",
            "Trainable params: 160,151\n",
            "Non-trainable params: 0\n",
            "_________________________________________________________________\n"
          ]
        }
      ]
    },
    {
      "cell_type": "code",
      "source": [
        "num_epochs = 10\n",
        "\n",
        "# Train the model\n",
        "model.fit(padded, train_labels_final, epochs=num_epochs, validation_data=(testing_padded, test_labels_final))"
      ],
      "metadata": {
        "colab": {
          "base_uri": "https://localhost:8080/"
        },
        "id": "-D-KKqelmMdq",
        "outputId": "0fea5d70-5ae3-4ac7-b641-5f015fc1ae1e"
      },
      "execution_count": 58,
      "outputs": [
        {
          "output_type": "stream",
          "name": "stdout",
          "text": [
            "Epoch 1/10\n",
            "782/782 [==============================] - 8s 10ms/step - loss: 1.2004e-04 - accuracy: 1.0000 - val_loss: 0.9664 - val_accuracy: 0.8086\n",
            "Epoch 2/10\n",
            "782/782 [==============================] - 6s 8ms/step - loss: 5.7272e-05 - accuracy: 1.0000 - val_loss: 1.0032 - val_accuracy: 0.8088\n",
            "Epoch 3/10\n",
            "782/782 [==============================] - 6s 8ms/step - loss: 3.5623e-05 - accuracy: 1.0000 - val_loss: 1.0396 - val_accuracy: 0.8085\n",
            "Epoch 4/10\n",
            "782/782 [==============================] - 6s 8ms/step - loss: 2.2891e-05 - accuracy: 1.0000 - val_loss: 1.0759 - val_accuracy: 0.8084\n",
            "Epoch 5/10\n",
            "782/782 [==============================] - 7s 9ms/step - loss: 1.4739e-05 - accuracy: 1.0000 - val_loss: 1.1138 - val_accuracy: 0.8082\n",
            "Epoch 6/10\n",
            "782/782 [==============================] - 7s 9ms/step - loss: 9.5092e-06 - accuracy: 1.0000 - val_loss: 1.1500 - val_accuracy: 0.8080\n",
            "Epoch 7/10\n",
            "782/782 [==============================] - 7s 9ms/step - loss: 6.1498e-06 - accuracy: 1.0000 - val_loss: 1.1861 - val_accuracy: 0.8076\n",
            "Epoch 8/10\n",
            "782/782 [==============================] - 6s 7ms/step - loss: 3.9530e-06 - accuracy: 1.0000 - val_loss: 1.2233 - val_accuracy: 0.8078\n",
            "Epoch 9/10\n",
            "782/782 [==============================] - 7s 9ms/step - loss: 2.5680e-06 - accuracy: 1.0000 - val_loss: 1.2623 - val_accuracy: 0.8071\n",
            "Epoch 10/10\n",
            "782/782 [==============================] - 6s 8ms/step - loss: 1.6774e-06 - accuracy: 1.0000 - val_loss: 1.2999 - val_accuracy: 0.8070\n"
          ]
        },
        {
          "output_type": "execute_result",
          "data": {
            "text/plain": [
              "<keras.callbacks.History at 0x7fbe5ce6a710>"
            ]
          },
          "metadata": {},
          "execution_count": 58
        }
      ]
    },
    {
      "cell_type": "code",
      "source": [
        "scores = model.evaluate(testing_padded, test_labels_final, verbose=0)\n",
        "print(\"Accuracy: %.2f%%\" % (scores[1]*100))"
      ],
      "metadata": {
        "colab": {
          "base_uri": "https://localhost:8080/"
        },
        "id": "Z3_5tpdAq15l",
        "outputId": "8c05ccfd-2f35-4606-d9a8-b7029bc7baa6"
      },
      "execution_count": 62,
      "outputs": [
        {
          "output_type": "stream",
          "name": "stdout",
          "text": [
            "Accuracy: 80.70%\n"
          ]
        }
      ]
    },
    {
      "cell_type": "code",
      "source": [
        "model.save(\"trained_demo.h5\")\n"
      ],
      "metadata": {
        "id": "7YM-iopLq-De"
      },
      "execution_count": 63,
      "outputs": []
    },
    {
      "cell_type": "code",
      "source": [
        "# testing the model on a single review \n",
        "\n",
        "\n",
        "# !pip install nltk\n",
        "import nltk\n",
        "# nltk.download('punkt')\n",
        "from nltk import word_tokenize\n",
        "\n",
        "from keras.preprocessing import sequence\n",
        "# word2index = imdb.get_word_index()\n",
        "test=[]\n",
        "for word in word_tokenize(\"i love this movie\"):\n",
        "     test.append(word_index[word])\n",
        "\n",
        "test=sequence.pad_sequences([test],maxlen=max_len)\n",
        "print(model.predict(test))\n",
        "predictions = np.round(model.predict(test)).astype(int)\n",
        "print(predictions)\n",
        "if predictions.item(0) == 0: print(\"negative\") \n",
        "else: \n",
        "  print(\"positive\")"
      ],
      "metadata": {
        "colab": {
          "base_uri": "https://localhost:8080/"
        },
        "id": "iyxhPoMgqNk3",
        "outputId": "13924c0f-5a0a-4019-ccde-0f17793bbe11"
      },
      "execution_count": 110,
      "outputs": [
        {
          "output_type": "stream",
          "name": "stdout",
          "text": [
            "[[0.66908866]]\n",
            "[[1]]\n",
            "positive\n"
          ]
        }
      ]
    }
  ]
}